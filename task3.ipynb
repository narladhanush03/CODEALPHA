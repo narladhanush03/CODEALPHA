{
 "cells": [
  {
   "cell_type": "code",
   "execution_count": 1,
   "id": "0fdebbe2-31bb-4b29-b431-3cd15f5488df",
   "metadata": {},
   "outputs": [
    {
     "name": "stdout",
     "output_type": "stream",
     "text": [
      "Control Group Mean: 21.2\n",
      "Treatment Group Mean: 28.6\n",
      "T-Statistic: -7.319123254693237\n",
      "P-Value: 8.492527609742004e-07\n",
      "Confidence Interval: (np.float64(6.503169010878418), np.float64(8.296830989121586))\n",
      "Reject the null hypothesis. The treatment group has a statistically significant difference from the control group.\n"
     ]
    }
   ],
   "source": [
    "import numpy as np\n",
    "from scipy import stats\n",
    "control_group=np.array([23, 21, 19, 24, 20, 22, 18, 25, 19, 21])\n",
    "treatment_group=np.array([30, 28, 26, 32, 29, 27, 25, 31, 28, 30])\n",
    "control_mean=np.mean(control_group)\n",
    "treatment_mean=np.mean(treatment_group)\n",
    "control_std=np.std(control_group)\n",
    "treatment_std=np.std(treatment_group)\n",
    "t_stat, p_val=stats.ttest_ind(control_group, treatment_group)\n",
    "confidence_interval=stats.t.interval(0.95, len(control_group)+len(treatment_group)-2, \n",
    "                                       loc=np.mean(treatment_group)-np.mean(control_group), \n",
    "                                       scale=stats.sem(treatment_group-control_group))\n",
    "print(\"Control Group Mean:\",control_mean)\n",
    "print(\"Treatment Group Mean:\",treatment_mean)\n",
    "print(\"T-Statistic:\",t_stat)\n",
    "print(\"P-Value:\",p_val)\n",
    "print(\"Confidence Interval:\",confidence_interval)\n",
    "if p_val < 0.05:\n",
    "    print(\"Reject the null hypothesis. The treatment group has a statistically significant difference from the control group.\")\n",
    "else:\n",
    "    print(\"Fail to reject the null hypothesis. The treatment group does not have a statistically significant difference from the control group.\")\n",
    "\n"
   ]
  },
  {
   "cell_type": "code",
   "execution_count": null,
   "id": "cb0faeba-ef81-47af-ae25-85cd321f45f6",
   "metadata": {},
   "outputs": [],
   "source": []
  }
 ],
 "metadata": {
  "kernelspec": {
   "display_name": "Python 3 (ipykernel)",
   "language": "python",
   "name": "python3"
  },
  "language_info": {
   "codemirror_mode": {
    "name": "ipython",
    "version": 3
   },
   "file_extension": ".py",
   "mimetype": "text/x-python",
   "name": "python",
   "nbconvert_exporter": "python",
   "pygments_lexer": "ipython3",
   "version": "3.13.2"
  }
 },
 "nbformat": 4,
 "nbformat_minor": 5
}
