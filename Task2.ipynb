{
 "cells": [
  {
   "cell_type": "code",
   "execution_count": 1,
   "id": "bbe8572c-86ad-4aaf-aaf6-28d9268cbfe0",
   "metadata": {},
   "outputs": [
    {
     "name": "stdout",
     "output_type": "stream",
     "text": [
      "Available columns: Index(['Game Number', '\"Game Length\"'], dtype='object')\n"
     ]
    },
    {
     "name": "stdin",
     "output_type": "stream",
     "text": [
      "Enter the target column name from the above list:  \"Game Length\"\n"
     ]
    },
    {
     "name": "stdout",
     "output_type": "stream",
     "text": [
      "Training set shape: (764, 1)\n",
      "Testing set shape: (192, 1)\n"
     ]
    }
   ],
   "source": [
    "import pandas as pd\n",
    "import numpy as np\n",
    "from sklearn.model_selection import train_test_split\n",
    "from sklearn.preprocessing import StandardScaler,MinMaxScaler\n",
    "df=pd.read_csv(r'C:\\Users\\narla\\Downloads\\sample-csv-files-sample4.csv')\n",
    "df.columns=df.columns.str.strip()\n",
    "df.fillna(df.median(numeric_only=True),inplace=True) \n",
    "Q1=df.quantile(0.25,numeric_only=True)\n",
    "Q3=df.quantile(0.75,numeric_only=True)\n",
    "IQR=Q3-Q1\n",
    "numeric_features=df.select_dtypes(include=[np.number]).columns\n",
    "df=df[~((df[numeric_features]<(Q1-1.5*IQR)) | (df[numeric_features]>(Q3+1.5*IQR))).any(axis=1)]\n",
    "def scale_data(df,method='standard'):\n",
    "    scaler=StandardScaler() if method =='standard' else MinMaxScaler()\n",
    "    numeric_features=df.select_dtypes(include=[np.number]).columns\n",
    "    df[numeric_features]=scaler.fit_transform(df[numeric_features])\n",
    "    return df\n",
    "df=scale_data(df,method='standard') \n",
    "print(\"Available columns:\",df.columns)\n",
    "target_column=input(\"Enter the target column name from the above list: \").strip()\n",
    "if target_column in df.columns:\n",
    "    X = df.drop(columns=[target_column])\n",
    "    y = df[target_column]\n",
    "    X_train,X_test,y_train,y_test=train_test_split(X,y,test_size=0.2,random_state=42)\n",
    "    print(\"Training set shape:\",X_train.shape)\n",
    "    print(\"Testing set shape:\",X_test.shape)\n",
    "else:\n",
    "    print(f\"Error: Column'{target_column}'not found in dataset. Please check the column names and try again.\")\n"
   ]
  },
  {
   "cell_type": "code",
   "execution_count": null,
   "id": "717a582f-d871-440f-87ed-c4551bc14129",
   "metadata": {},
   "outputs": [],
   "source": []
  }
 ],
 "metadata": {
  "kernelspec": {
   "display_name": "Python 3 (ipykernel)",
   "language": "python",
   "name": "python3"
  },
  "language_info": {
   "codemirror_mode": {
    "name": "ipython",
    "version": 3
   },
   "file_extension": ".py",
   "mimetype": "text/x-python",
   "name": "python",
   "nbconvert_exporter": "python",
   "pygments_lexer": "ipython3",
   "version": "3.11.6"
  }
 },
 "nbformat": 4,
 "nbformat_minor": 5
}
